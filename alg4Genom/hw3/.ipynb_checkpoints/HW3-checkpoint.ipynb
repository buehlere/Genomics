{
 "cells": [
  {
   "cell_type": "code",
   "execution_count": 80,
   "metadata": {},
   "outputs": [],
   "source": [
    "from readGenome import *\n",
    "from IPython.core.interactiveshell import InteractiveShell\n",
    "InteractiveShell.ast_node_interactivity = \"all\""
   ]
  },
  {
   "cell_type": "code",
   "execution_count": 4,
   "metadata": {},
   "outputs": [],
   "source": [
    "def editDistance(x, y):\n",
    "    # Create distance matrix\n",
    "    D = []\n",
    "    for i in range(len(x)+1):\n",
    "        D.append([0]*(len(y)+1))\n",
    "    # Initialize first row and column of matrix\n",
    "    for i in range(len(x)+1):\n",
    "        D[i][0] = i\n",
    "    for i in range(len(y)+1):\n",
    "        D[0][i] = 0\n",
    "    # Fill in the rest of the matrix\n",
    "    for i in range(1, len(x)+1):\n",
    "        for j in range(1, len(y)+1):\n",
    "            distHor = D[i][j-1] + 1\n",
    "            distVer = D[i-1][j] + 1\n",
    "            if x[i-1] == y[j-1]:\n",
    "                distDiag = D[i-1][j-1]\n",
    "            else:\n",
    "                distDiag = D[i-1][j-1] + 1\n",
    "            D[i][j] = min(distHor, distVer, distDiag)\n",
    "    # Edit distance is the value in the bottom right corner of the matrix\n",
    "    return min(D[-1])"
   ]
  },
  {
   "cell_type": "code",
   "execution_count": 81,
   "metadata": {},
   "outputs": [
    {
     "data": {
      "text/plain": [
       "2"
      ]
     },
     "execution_count": 81,
     "metadata": {},
     "output_type": "execute_result"
    }
   ],
   "source": [
    "# check \n",
    "P = 'GCGTATGC'\n",
    "T = 'TATTGGCTATACGGTT'\n",
    "editDistance(P,T)"
   ]
  },
  {
   "cell_type": "code",
   "execution_count": 82,
   "metadata": {},
   "outputs": [
    {
     "data": {
      "text/plain": [
       "3"
      ]
     },
     "execution_count": 82,
     "metadata": {},
     "output_type": "execute_result"
    }
   ],
   "source": [
    "# Question 1: \n",
    "P = 'GCTGATCGATCGTACG'\n",
    "T = readGenome('chr1.GRCh38.excerpt.fasta')\n",
    "editDistance(P,T)"
   ]
  },
  {
   "cell_type": "code",
   "execution_count": 83,
   "metadata": {},
   "outputs": [
    {
     "data": {
      "text/plain": [
       "2"
      ]
     },
     "execution_count": 83,
     "metadata": {},
     "output_type": "execute_result"
    }
   ],
   "source": [
    "P = 'GATTTACCAGATTGAG'\n",
    "T = readGenome('chr1.GRCh38.excerpt.fasta')\n",
    "editDistance(P,T)"
   ]
  },
  {
   "cell_type": "code",
   "execution_count": 95,
   "metadata": {},
   "outputs": [],
   "source": [
    "def overlap(a, b, min_length=3):\n",
    "    \"\"\" Return length of longest suffix of 'a' matching\n",
    "        a prefix of 'b' that is at least 'min_length'\n",
    "        characters long.  If no such overlap exists,\n",
    "        return 0. \"\"\"\n",
    "    start = 0  # start all the way at the left\n",
    "    while True:\n",
    "        start = a.find(b[:min_length], start)  # look for b's prefix in a\n",
    "        if start == -1:  # no more occurrences to right\n",
    "            return 0\n",
    "        # found occurrence; check for full suffix/prefix match\n",
    "        if b.startswith(a[start:]):\n",
    "            return len(a)-start\n",
    "        start += 1  # move just past previous match\n",
    "        \n",
    "def makeKmer(reads, k):\n",
    "    allKmer = {}\n",
    "    for read in reads:\n",
    "        for i in range(len(read)):\n",
    "            kmer = read[i:k + i]\n",
    "            if len(kmer) != k: \n",
    "                break \n",
    "            i = i + 1\n",
    "            if kmer in allKmer: \n",
    "                allKmer[kmer].add(read) \n",
    "            else:\n",
    "                allKmer[kmer] = set([read])\n",
    "    return allKmer \n",
    "\n",
    "            \n",
    "def naive_overlap_map(reads, k):\n",
    "    olaps = {}\n",
    "    for a, b in permutations(reads, 2):\n",
    "        olen = overlap(a, b, min_length=k)\n",
    "        if olen > 0:\n",
    "            olaps[(a, b)] = olen\n",
    "    return olaps\n",
    "\n",
    "def findOverlaps(reads,k):\n",
    "    overlaps = []\n",
    "    count = 0 \n",
    "    # make dict \n",
    "    allKmer = makeKmer(reads, k)\n",
    "    for read in reads:\n",
    "        # get read suffix \n",
    "        suffix = read[-k:]\n",
    "        # check keys \n",
    "        if suffix in allKmer:\n",
    "            matches = list(allKmer[suffix])\n",
    "            for match in matches:\n",
    "                if match == read:\n",
    "                    pass \n",
    "                else:\n",
    "                    if overlap(read, match, min_length=k) > 0:\n",
    "                        count += 1\n",
    "                        overlaps.append((read, match))\n",
    "                    \n",
    "    return overlaps, count "
   ]
  },
  {
   "cell_type": "code",
   "execution_count": 34,
   "metadata": {},
   "outputs": [
    {
     "data": {
      "text/plain": [
       "set"
      ]
     },
     "execution_count": 34,
     "metadata": {},
     "output_type": "execute_result"
    }
   ],
   "source": [
    "a = 'TAA'\n",
    "lookup = {'TAA': set(),\n",
    " 'AAA': set(),\n",
    " 'AAC': set(),\n",
    " 'ACA': set(),\n",
    " 'CAA': set(),\n",
    " 'AAG': set()}\n",
    "lookup[a].add('sdkfls')\n",
    "lookup[a].add('sdfds')\n"
   ]
  },
  {
   "cell_type": "code",
   "execution_count": 7,
   "metadata": {},
   "outputs": [],
   "source": []
  },
  {
   "cell_type": "code",
   "execution_count": 91,
   "metadata": {},
   "outputs": [
    {
     "data": {
      "text/plain": [
       "[('ABCDEFG', 'EFGHIJ'), ('EFGHIJ', 'HIJABC'), ('HIJABC', 'ABCDEFG')]"
      ]
     },
     "execution_count": 91,
     "metadata": {},
     "output_type": "execute_result"
    },
    {
     "data": {
      "text/plain": [
       "[]"
      ]
     },
     "execution_count": 91,
     "metadata": {},
     "output_type": "execute_result"
    }
   ],
   "source": [
    "# test case 1 \n",
    "reads = ['ABCDEFG', 'EFGHIJ', 'HIJABC']\n",
    "findOverlaps(reads,3)\n",
    "findOverlaps(reads, 4)"
   ]
  },
  {
   "cell_type": "code",
   "execution_count": 92,
   "metadata": {},
   "outputs": [
    {
     "data": {
      "text/plain": [
       "[('CGTACG', 'TACGTA'),\n",
       " ('CGTACG', 'GTACGT'),\n",
       " ('CGTACG', 'GTACGA'),\n",
       " ('CGTACG', 'TACGAT'),\n",
       " ('TACGTA', 'CGTACG'),\n",
       " ('TACGTA', 'ACGTAC'),\n",
       " ('GTACGT', 'TACGTA'),\n",
       " ('GTACGT', 'ACGTAC'),\n",
       " ('ACGTAC', 'GTACGT'),\n",
       " ('ACGTAC', 'CGTACG'),\n",
       " ('ACGTAC', 'GTACGA'),\n",
       " ('GTACGA', 'TACGAT')]"
      ]
     },
     "execution_count": 92,
     "metadata": {},
     "output_type": "execute_result"
    },
    {
     "data": {
      "text/plain": [
       "[('CGTACG', 'GTACGT'),\n",
       " ('CGTACG', 'GTACGA'),\n",
       " ('TACGTA', 'ACGTAC'),\n",
       " ('GTACGT', 'TACGTA'),\n",
       " ('ACGTAC', 'CGTACG'),\n",
       " ('GTACGA', 'TACGAT')]"
      ]
     },
     "execution_count": 92,
     "metadata": {},
     "output_type": "execute_result"
    }
   ],
   "source": [
    "# test case 2\n",
    "reads = ['CGTACG', 'TACGTA', 'GTACGT', 'ACGTAC', 'GTACGA', 'TACGAT']\n",
    "findOverlaps(reads, 4)\n",
    "findOverlaps(reads, 5)"
   ]
  },
  {
   "cell_type": "code",
   "execution_count": 96,
   "metadata": {},
   "outputs": [],
   "source": [
    "reads,qualities = readFastq('ERR266411_1.for_asm.fastq')\n",
    "overlaps, count = findOverlaps(reads, 30)"
   ]
  },
  {
   "cell_type": "code",
   "execution_count": 102,
   "metadata": {},
   "outputs": [
    {
     "data": {
      "text/plain": [
       "904746"
      ]
     },
     "execution_count": 102,
     "metadata": {},
     "output_type": "execute_result"
    },
    {
     "data": {
      "text/plain": [
       "7161"
      ]
     },
     "execution_count": 102,
     "metadata": {},
     "output_type": "execute_result"
    }
   ],
   "source": [
    "# edges \n",
    "len(overlaps)\n",
    "# nodes\n",
    "len(set([x[0] for x in overlaps]))"
   ]
  }
 ],
 "metadata": {
  "kernelspec": {
   "display_name": "Python 3",
   "language": "python",
   "name": "python3"
  },
  "language_info": {
   "codemirror_mode": {
    "name": "ipython",
    "version": 3
   },
   "file_extension": ".py",
   "mimetype": "text/x-python",
   "name": "python",
   "nbconvert_exporter": "python",
   "pygments_lexer": "ipython3",
   "version": "3.7.3"
  }
 },
 "nbformat": 4,
 "nbformat_minor": 2
}
