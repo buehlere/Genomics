{
 "cells": [
  {
   "cell_type": "code",
   "execution_count": 1,
   "metadata": {},
   "outputs": [],
   "source": [
    "from readGenome import *"
   ]
  },
  {
   "cell_type": "code",
   "execution_count": 2,
   "metadata": {},
   "outputs": [],
   "source": [
    "def editDistance(x, y):\n",
    "    # Create distance matrix\n",
    "    D = []\n",
    "    for i in range(len(x)+1):\n",
    "        D.append([0]*(len(y)+1))\n",
    "    # Initialize first row and column of matrix\n",
    "    for i in range(len(x)+1):\n",
    "        D[i][0] = i\n",
    "    for i in range(len(y)+1):\n",
    "        D[0][i] = 0\n",
    "    # Fill in the rest of the matrix\n",
    "    for i in range(1, len(x)+1):\n",
    "        for j in range(1, len(y)+1):\n",
    "            distHor = D[i][j-1] + 1\n",
    "            distVer = D[i-1][j] + 1\n",
    "            if x[i-1] == y[j-1]:\n",
    "                distDiag = D[i-1][j-1]\n",
    "            else:\n",
    "                distDiag = D[i-1][j-1] + 1\n",
    "            D[i][j] = min(distHor, distVer, distDiag)\n",
    "    # Edit distance is the value in the bottom right corner of the matrix\n",
    "    return min(D[-1])"
   ]
  },
  {
   "cell_type": "code",
   "execution_count": null,
   "metadata": {},
   "outputs": [],
   "source": [
    "# check \n",
    "P = 'GCGTATGC'\n",
    "T = 'TATTGGCTATACGGTT'\n",
    "editDistance(P,T)"
   ]
  },
  {
   "cell_type": "code",
   "execution_count": null,
   "metadata": {},
   "outputs": [],
   "source": [
    "# Question 1: \n",
    "P = 'GCTGATCGATCGTACG'\n",
    "T = readGenome('chr1.GRCh38.excerpt.fasta')\n",
    "editDistance(P,T)"
   ]
  },
  {
   "cell_type": "code",
   "execution_count": null,
   "metadata": {},
   "outputs": [],
   "source": [
    "P = 'GATTTACCAGATTGAG'\n",
    "T = readGenome('chr1.GRCh38.excerpt.fasta')\n",
    "editDistance(P,T)"
   ]
  },
  {
   "cell_type": "code",
   "execution_count": 17,
   "metadata": {},
   "outputs": [],
   "source": [
    "def overlap(a, b, min_length=3):\n",
    "    \"\"\" Return length of longest suffix of 'a' matching\n",
    "        a prefix of 'b' that is at least 'min_length'\n",
    "        characters long.  If no such overlap exists,\n",
    "        return 0. \"\"\"\n",
    "    start = 0  # start all the way at the left\n",
    "    while True:\n",
    "        start = a.find(b[:min_length], start)  # look for b's prefix in a\n",
    "        if start == -1:  # no more occurrences to right\n",
    "            return 0\n",
    "        # found occurrence; check for full suffix/prefix match\n",
    "        if b.startswith(a[start:]):\n",
    "            return len(a)-start\n",
    "        start += 1  # move just past previous match\n",
    "        \n",
    "def makeKmer(read, k):\n",
    "    allKmer = {}\n",
    "    i = 0 \n",
    "    kmer = 'aaa'\n",
    "    print(read)\n",
    "    while len(kmer) == k:\n",
    "        kmer = read[i:k + i]\n",
    "        print(kmer)\n",
    "        i = i + 1\n",
    "        if kmer in allKmer: \n",
    "            pass \n",
    "        else:\n",
    "            allKmer[kmer] = set([])\n",
    "            \n",
    "        "
   ]
  },
  {
   "cell_type": "code",
   "execution_count": null,
   "metadata": {},
   "outputs": [],
   "source": [
    "def naive_overlap_map(reads, k):\n",
    "    olaps = {}\n",
    "    for a, b in permutations(reads, 2):\n",
    "        olen = overlap(a, b, min_length=k)\n",
    "        if olen > 0:\n",
    "            olaps[(a, b)] = olen\n",
    "    return olaps"
   ]
  },
  {
   "cell_type": "code",
   "execution_count": null,
   "metadata": {},
   "outputs": [],
   "source": [
    "a = set([1,3,4,3])\n",
    "a"
   ]
  },
  {
   "cell_type": "code",
   "execution_count": 8,
   "metadata": {},
   "outputs": [],
   "source": [
    "#genome = rd.readGenome('ERR266411_1.for_asm.fastq')\n",
    "reads,qualities = readFastq('ERR266411_1.for_asm.fastq')"
   ]
  },
  {
   "cell_type": "code",
   "execution_count": 18,
   "metadata": {},
   "outputs": [
    {
     "name": "stdout",
     "output_type": "stream",
     "text": [
      "TAAACAAGCAGTAGTAATTCCTGCTTTATCAAGATAATTTTTCGACTCATCAGAAATATCCGAAAGTGTTAACTTCTGCGTCATGGAAGCGATAAAACTC\n",
      "TAA\n",
      "AAA\n",
      "AAC\n",
      "ACA\n",
      "CAA\n",
      "AAG\n",
      "AGC\n",
      "GCA\n",
      "CAG\n",
      "AGT\n",
      "GTA\n",
      "TAG\n",
      "AGT\n",
      "GTA\n",
      "TAA\n",
      "AAT\n",
      "ATT\n",
      "TTC\n",
      "TCC\n",
      "CCT\n",
      "CTG\n",
      "TGC\n",
      "GCT\n",
      "CTT\n",
      "TTT\n",
      "TTA\n",
      "TAT\n",
      "ATC\n",
      "TCA\n",
      "CAA\n",
      "AAG\n",
      "AGA\n",
      "GAT\n",
      "ATA\n",
      "TAA\n",
      "AAT\n",
      "ATT\n",
      "TTT\n",
      "TTT\n",
      "TTT\n",
      "TTC\n",
      "TCG\n",
      "CGA\n",
      "GAC\n",
      "ACT\n",
      "CTC\n",
      "TCA\n",
      "CAT\n",
      "ATC\n",
      "TCA\n",
      "CAG\n",
      "AGA\n",
      "GAA\n",
      "AAA\n",
      "AAT\n",
      "ATA\n",
      "TAT\n",
      "ATC\n",
      "TCC\n",
      "CCG\n",
      "CGA\n",
      "GAA\n",
      "AAA\n",
      "AAG\n",
      "AGT\n",
      "GTG\n",
      "TGT\n",
      "GTT\n",
      "TTA\n",
      "TAA\n",
      "AAC\n",
      "ACT\n",
      "CTT\n",
      "TTC\n",
      "TCT\n",
      "CTG\n",
      "TGC\n",
      "GCG\n",
      "CGT\n",
      "GTC\n",
      "TCA\n",
      "CAT\n",
      "ATG\n",
      "TGG\n",
      "GGA\n",
      "GAA\n",
      "AAG\n",
      "AGC\n",
      "GCG\n",
      "CGA\n",
      "GAT\n",
      "ATA\n",
      "TAA\n",
      "AAA\n",
      "AAA\n",
      "AAC\n",
      "ACT\n",
      "CTC\n",
      "TC\n"
     ]
    }
   ],
   "source": [
    "makeKmer(reads[0],3)\n"
   ]
  },
  {
   "cell_type": "code",
   "execution_count": 7,
   "metadata": {},
   "outputs": [],
   "source": []
  }
 ],
 "metadata": {
  "kernelspec": {
   "display_name": "Python 3",
   "language": "python",
   "name": "python3"
  },
  "language_info": {
   "codemirror_mode": {
    "name": "ipython",
    "version": 3
   },
   "file_extension": ".py",
   "mimetype": "text/x-python",
   "name": "python",
   "nbconvert_exporter": "python",
   "pygments_lexer": "ipython3",
   "version": "3.7.3"
  }
 },
 "nbformat": 4,
 "nbformat_minor": 2
}
